{
  "metadata": {},
  "nbformat": 4,
  "nbformat_minor": 5,
  "cells": [
    {
      "cell_type": "markdown",
      "id": "a9541506",
      "metadata": {},
      "source": [
        "Hello world!\n",
        "============\n",
        "Print `Hello world!`:"
      ]
    },
    {
      "cell_type": "markdown",
      "id": "b777420a",
      "metadata": {},
      "source": [
        "```python",
        "print(\"Hello world!\")",
        "```"
      ]
    },
    {
      "cell_type": "markdown",
      "id": "a23ab5ac",
      "metadata": {},
      "source": [
        "Goodbye! \ud83d\udc4b"
      ]
    }
  ]
}